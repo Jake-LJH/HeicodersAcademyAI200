{
  "nbformat": 4,
  "nbformat_minor": 0,
  "metadata": {
    "colab": {
      "name": "CA2 Image Classifier.ipynb",
      "provenance": [],
      "authorship_tag": "ABX9TyPcA337qQOk1IiEQoDYtulo",
      "include_colab_link": true
    },
    "kernelspec": {
      "name": "python3",
      "display_name": "Python 3"
    },
    "language_info": {
      "name": "python"
    },
    "accelerator": "GPU"
  },
  "cells": [
    {
      "cell_type": "markdown",
      "metadata": {
        "id": "view-in-github",
        "colab_type": "text"
      },
      "source": [
        "<a href=\"https://colab.research.google.com/github/Jake-LJH/ML/blob/main/CA2_Image_Classifier.ipynb\" target=\"_parent\"><img src=\"https://colab.research.google.com/assets/colab-badge.svg\" alt=\"Open In Colab\"/></a>"
      ]
    },
    {
      "cell_type": "markdown",
      "metadata": {
        "id": "G0nzZcJaNcye"
      },
      "source": [
        "#Deep Learning - Image Classifier\n",
        "\n",
        "## Background\n",
        "Implement an image classifier using a deep learning network. \n",
        "\n",
        "[Hint: You may wish to refer to papers on successful DL architectures such as AlexNet]\n",
        "\n",
        "###Tasks\n",
        "1.\tWrite the code to solve the prediction task. Normally you would be using TensorFlow/Keras, but if you'd prefer to work with your own implementation of learning algorithms, or some other toolkit, that is fine.\n",
        "2.\tWrite a short report (e.g. in Notebook) detailing your implementation, your experiments and analysis. In particular, we'd like to know:\n",
        "\n",
        "  *\tHow is your prediction task defined? And what is the meaning of the output variable?\n",
        "  *\tHow do you represent your data as features?\n",
        "  *\tDid you process the features in any way?\n",
        "  *\tDid you bring in any additional sources of data?\n",
        "  *\tHow did you select which DL model to use?\n",
        "  *\tDid you try to optimise the learning algorithm, and in that case how?\n",
        "  *\tHow do you evaluate the quality of your system?\n",
        "  *\tCan you say anything about the errors that the system makes? For a classification task, you may consider a confusion matrix.\n",
        "  *\tIs it possible to say something about which features the model considers important? (Whether this is possible depends on the type of classifier you are using)\n",
        "  *\tProvide a reference section for any papers, online articles, books, publications that you have referenced.\n",
        "\n"
      ]
    },
    {
      "cell_type": "code",
      "metadata": {
        "id": "rWSoWEjTFnsN"
      },
      "source": [
        "# Import libraries from Tensorflow keras and python\n",
        "import numpy as np\n",
        "import matplotlib.pyplot as plt\n",
        "from keras import backend as K\n",
        "from keras.models import Sequential\n",
        "from keras.datasets import mnist\n",
        "from keras.utils import np_utils\n",
        "from keras.layers import Dense, Flatten, Dropout\n",
        "from keras.layers.convolutional import Conv2D, MaxPooling2D\n",
        "from keras.layers.core import Activation\n",
        "from keras.optimizers import SGD"
      ],
      "execution_count": 10,
      "outputs": []
    },
    {
      "cell_type": "code",
      "metadata": {
        "id": "eOvat98gG-s7"
      },
      "source": [
        "K.set_image_data_format('channels_last')\n",
        "np.random.seed(0)"
      ],
      "execution_count": 11,
      "outputs": []
    },
    {
      "cell_type": "code",
      "metadata": {
        "id": "g9uoHfVOHn7m"
      },
      "source": [
        "# Load the dataset\n",
        "(XTrain, YTrain), (xTest, yTest) = mnist.load_data()"
      ],
      "execution_count": 12,
      "outputs": []
    },
    {
      "cell_type": "code",
      "metadata": {
        "colab": {
          "base_uri": "https://localhost:8080/",
          "height": 268
        },
        "id": "SgtW962YH3t-",
        "outputId": "9c231205-f2ac-4e5b-b45e-85d354c450e1"
      },
      "source": [
        "# Plot out the images as grey scale\n",
        "for i in range(9):\n",
        "\tplt.subplot(330 + 1 + i)\n",
        "\tplt.imshow(XTrain[i], cmap=plt.get_cmap('gray'))\n",
        "plt.show()"
      ],
      "execution_count": 13,
      "outputs": [
        {
          "output_type": "display_data",
          "data": {
            "image/png": "[encoded data removed]",
            "text/plain": [
              "<Figure size 432x288 with 9 Axes>"
            ]
          },
          "metadata": {
            "tags": [],
            "needs_background": "light"
          }
        }
      ]
    },
    {
      "cell_type": "markdown",
      "metadata": {
        "id": "GqWxsTJU_eEw"
      },
      "source": [
        "# Creating the model\n",
        "\n",
        "In this section, I will be using 2 different models taken from 2 different source and compare the results with each other.\n",
        "\n",
        "Model 1 has only 2 Convolution layer with 40 and 50 filters respectively, before Flattening it and pass into a Dense layer.\n",
        "\n",
        "Model 2 started off with only a Convolution layer with 32 filters and passed on to a 2DMaxPooling layer straigh away before moving on to 2 Convolution layers with 64 filters and another 2D MaxPooling layer before Flatterning it and proceeded to 2 Dense layer. "
      ]
    },
    {
      "cell_type": "code",
      "metadata": {
        "id": "63feAsbONHf3"
      },
      "source": [
        "# Create the model\n",
        "def model_1():\n",
        "  model_1 = Sequential()\n",
        "  model_1.add(Conv2D(filters=40, kernel_size=5, padding='same',\n",
        "                input_shape=(28,28,1), activation='relu'))\n",
        "  model_1.add(Conv2D(filters=50, kernel_size=5, padding='same',\n",
        "                activation='relu'))\n",
        "\n",
        "  #Flatten the 2D into 1D data\n",
        "  model_1.add(Flatten())\n",
        "\n",
        "  # Pass it into NN (Dense Layers)\n",
        "  model_1.add(Dense(units=10, activation='softmax'))\n",
        "  model_1.compile(optimizer='adam', loss='categorical_crossentropy', metrics=['accuracy'])\n",
        "  return model_1"
      ],
      "execution_count": 14,
      "outputs": []
    },
    {
      "cell_type": "code",
      "metadata": {
        "id": "ovtyomvJ1kHn"
      },
      "source": [
        "def model_2():\n",
        "  model_2 = Sequential()\n",
        "  model_2.add(Conv2D(32, (3, 3), activation='relu', kernel_initializer='he_uniform', input_shape=(28, 28, 1)))\n",
        "  model_2.add(MaxPooling2D((2, 2)))\n",
        "  model_2.add(Conv2D(64, (3, 3), activation='relu', kernel_initializer='he_uniform'))\n",
        "  model_2.add(Conv2D(64, (3, 3), activation='relu', kernel_initializer='he_uniform'))\n",
        "  model_2.add(MaxPooling2D((2, 2)))\n",
        "  model_2.add(Flatten())\n",
        "  model_2.add(Dense(100, activation='relu', kernel_initializer='he_uniform'))\n",
        "  model_2.add(Dense(10, activation='softmax'))\n",
        "  # compile model\n",
        "  opt = SGD(learning_rate=0.01, momentum=0.9)\n",
        "  model_2.compile(optimizer=opt, loss='categorical_crossentropy', metrics=['accuracy'])\n",
        "  return model_2"
      ],
      "execution_count": 15,
      "outputs": []
    },
    {
      "cell_type": "code",
      "metadata": {
        "id": "yPRFrFKs1ZO0"
      },
      "source": [
        "# Reshape the dataset to comply with the input size above\n",
        "XTrain = XTrain.reshape((XTrain.shape[0],28,28,1))\n",
        "xTest = xTest.reshape((xTest.shape[0],28,28,1))\n",
        "\n",
        "# Convert from integer to floats\n",
        "XTrain = XTrain.astype('float32')\n",
        "xTest = xTest.astype('float32')\n",
        "\n",
        "# Normalise the image\n",
        "XTrain = XTrain/255.0\n",
        "xTest = xTest/255.0\n",
        "\n",
        "# Convert target to categorical\n",
        "YTrain = np_utils.to_categorical(YTrain)\n",
        "yTest = np_utils.to_categorical(yTest)"
      ],
      "execution_count": 16,
      "outputs": []
    },
    {
      "cell_type": "code",
      "metadata": {
        "colab": {
          "base_uri": "https://localhost:8080/"
        },
        "id": "sydvp8g42Wf5",
        "outputId": "770ba1e1-920b-4307-f092-303e97e5a2af"
      },
      "source": [
        "model_1 = model_1()\n",
        "model_1.fit(x=XTrain, y=YTrain, epochs=32, batch_size=100, validation_steps=0.2)"
      ],
      "execution_count": 18,
      "outputs": [
        {
          "output_type": "stream",
          "text": [
            "Epoch 1/32\n",
            "600/600 [==============================] - 48s 7ms/step - loss: 0.3010 - accuracy: 0.9065\n",
            "Epoch 2/32\n",
            "600/600 [==============================] - 4s 6ms/step - loss: 0.0460 - accuracy: 0.9864\n",
            "Epoch 3/32\n",
            "600/600 [==============================] - 4s 6ms/step - loss: 0.0304 - accuracy: 0.9902\n",
            "Epoch 4/32\n",
            "600/600 [==============================] - 4s 6ms/step - loss: 0.0192 - accuracy: 0.9940\n",
            "Epoch 5/32\n",
            "600/600 [==============================] - 4s 6ms/step - loss: 0.0139 - accuracy: 0.9956\n",
            "Epoch 6/32\n",
            "600/600 [==============================] - 4s 6ms/step - loss: 0.0105 - accuracy: 0.9966\n",
            "Epoch 7/32\n",
            "600/600 [==============================] - 4s 6ms/step - loss: 0.0096 - accuracy: 0.9967\n",
            "Epoch 8/32\n",
            "600/600 [==============================] - 4s 6ms/step - loss: 0.0070 - accuracy: 0.9977\n",
            "Epoch 9/32\n",
            "600/600 [==============================] - 4s 7ms/step - loss: 0.0051 - accuracy: 0.9981\n",
            "Epoch 10/32\n",
            "600/600 [==============================] - 4s 6ms/step - loss: 0.0042 - accuracy: 0.9988\n",
            "Epoch 11/32\n",
            "600/600 [==============================] - 4s 6ms/step - loss: 0.0054 - accuracy: 0.9983\n",
            "Epoch 12/32\n",
            "600/600 [==============================] - 4s 6ms/step - loss: 0.0031 - accuracy: 0.9989\n",
            "Epoch 13/32\n",
            "600/600 [==============================] - 4s 7ms/step - loss: 0.0031 - accuracy: 0.9992\n",
            "Epoch 14/32\n",
            "600/600 [==============================] - 4s 7ms/step - loss: 0.0022 - accuracy: 0.9993\n",
            "Epoch 15/32\n",
            "600/600 [==============================] - 4s 7ms/step - loss: 0.0029 - accuracy: 0.9989\n",
            "Epoch 16/32\n",
            "600/600 [==============================] - 4s 7ms/step - loss: 0.0032 - accuracy: 0.9988\n",
            "Epoch 17/32\n",
            "600/600 [==============================] - 4s 7ms/step - loss: 0.0027 - accuracy: 0.9992\n",
            "Epoch 18/32\n",
            "600/600 [==============================] - 4s 7ms/step - loss: 0.0018 - accuracy: 0.9994\n",
            "Epoch 19/32\n",
            "600/600 [==============================] - 4s 7ms/step - loss: 0.0024 - accuracy: 0.9994\n",
            "Epoch 20/32\n",
            "600/600 [==============================] - 4s 7ms/step - loss: 9.3977e-04 - accuracy: 0.9996\n",
            "Epoch 21/32\n",
            "600/600 [==============================] - 4s 7ms/step - loss: 0.0023 - accuracy: 0.9992\n",
            "Epoch 22/32\n",
            "600/600 [==============================] - 4s 7ms/step - loss: 0.0017 - accuracy: 0.9996\n",
            "Epoch 23/32\n",
            "600/600 [==============================] - 4s 7ms/step - loss: 0.0014 - accuracy: 0.9994\n",
            "Epoch 24/32\n",
            "600/600 [==============================] - 4s 7ms/step - loss: 0.0029 - accuracy: 0.9988\n",
            "Epoch 25/32\n",
            "600/600 [==============================] - 4s 7ms/step - loss: 0.0019 - accuracy: 0.9994\n",
            "Epoch 26/32\n",
            "600/600 [==============================] - 4s 7ms/step - loss: 6.7246e-04 - accuracy: 0.9998\n",
            "Epoch 27/32\n",
            "600/600 [==============================] - 4s 7ms/step - loss: 5.3402e-04 - accuracy: 0.9999\n",
            "Epoch 28/32\n",
            "600/600 [==============================] - 4s 6ms/step - loss: 0.0013 - accuracy: 0.9996\n",
            "Epoch 29/32\n",
            "600/600 [==============================] - 4s 7ms/step - loss: 0.0061 - accuracy: 0.9984\n",
            "Epoch 30/32\n",
            "600/600 [==============================] - 4s 7ms/step - loss: 0.0016 - accuracy: 0.9995\n",
            "Epoch 31/32\n",
            "600/600 [==============================] - 4s 7ms/step - loss: 5.4619e-04 - accuracy: 0.9998\n",
            "Epoch 32/32\n",
            "600/600 [==============================] - 4s 7ms/step - loss: 0.0017 - accuracy: 0.9994\n"
          ],
          "name": "stdout"
        },
        {
          "output_type": "execute_result",
          "data": {
            "text/plain": [
              "<keras.callbacks.History at 0x7f8a58dc9d10>"
            ]
          },
          "metadata": {
            "tags": []
          },
          "execution_count": 18
        }
      ]
    },
    {
      "cell_type": "code",
      "metadata": {
        "colab": {
          "base_uri": "https://localhost:8080/"
        },
        "id": "CIyTapgbDu2m",
        "outputId": "341da95d-a850-4bcf-f495-b2cdce0145cc"
      },
      "source": [
        "model_2 = model_2()\n",
        "model_2.fit(x=XTrain, y=YTrain, epochs=32, batch_size=100, validation_steps=0.2)"
      ],
      "execution_count": 19,
      "outputs": [
        {
          "output_type": "stream",
          "text": [
            "Epoch 1/32\n",
            "600/600 [==============================] - 4s 4ms/step - loss: 0.4065 - accuracy: 0.8689\n",
            "Epoch 2/32\n",
            "600/600 [==============================] - 3s 4ms/step - loss: 0.0613 - accuracy: 0.9815\n",
            "Epoch 3/32\n",
            "600/600 [==============================] - 3s 4ms/step - loss: 0.0404 - accuracy: 0.9879\n",
            "Epoch 4/32\n",
            "600/600 [==============================] - 2s 4ms/step - loss: 0.0317 - accuracy: 0.9894\n",
            "Epoch 5/32\n",
            "600/600 [==============================] - 2s 4ms/step - loss: 0.0240 - accuracy: 0.9924\n",
            "Epoch 6/32\n",
            "600/600 [==============================] - 3s 4ms/step - loss: 0.0194 - accuracy: 0.9941\n",
            "Epoch 7/32\n",
            "600/600 [==============================] - 3s 4ms/step - loss: 0.0156 - accuracy: 0.9952\n",
            "Epoch 8/32\n",
            "600/600 [==============================] - 3s 4ms/step - loss: 0.0133 - accuracy: 0.9959\n",
            "Epoch 9/32\n",
            "600/600 [==============================] - 3s 4ms/step - loss: 0.0095 - accuracy: 0.9973\n",
            "Epoch 10/32\n",
            "600/600 [==============================] - 2s 4ms/step - loss: 0.0076 - accuracy: 0.9980\n",
            "Epoch 11/32\n",
            "600/600 [==============================] - 2s 4ms/step - loss: 0.0083 - accuracy: 0.9977\n",
            "Epoch 12/32\n",
            "600/600 [==============================] - 3s 4ms/step - loss: 0.0062 - accuracy: 0.9983\n",
            "Epoch 13/32\n",
            "600/600 [==============================] - 2s 4ms/step - loss: 0.0048 - accuracy: 0.9987\n",
            "Epoch 14/32\n",
            "600/600 [==============================] - 3s 4ms/step - loss: 0.0032 - accuracy: 0.9991\n",
            "Epoch 15/32\n",
            "600/600 [==============================] - 3s 4ms/step - loss: 0.0028 - accuracy: 0.9993\n",
            "Epoch 16/32\n",
            "600/600 [==============================] - 3s 4ms/step - loss: 0.0020 - accuracy: 0.9996\n",
            "Epoch 17/32\n",
            "600/600 [==============================] - 2s 4ms/step - loss: 0.0022 - accuracy: 0.9994\n",
            "Epoch 18/32\n",
            "600/600 [==============================] - 2s 4ms/step - loss: 0.0010 - accuracy: 0.9999\n",
            "Epoch 19/32\n",
            "600/600 [==============================] - 3s 4ms/step - loss: 5.9486e-04 - accuracy: 1.0000\n",
            "Epoch 20/32\n",
            "600/600 [==============================] - 3s 4ms/step - loss: 5.3979e-04 - accuracy: 0.9999\n",
            "Epoch 21/32\n",
            "600/600 [==============================] - 3s 4ms/step - loss: 5.7938e-04 - accuracy: 0.9999\n",
            "Epoch 22/32\n",
            "600/600 [==============================] - 3s 4ms/step - loss: 3.0876e-04 - accuracy: 1.0000\n",
            "Epoch 23/32\n",
            "600/600 [==============================] - 3s 4ms/step - loss: 2.6895e-04 - accuracy: 1.0000\n",
            "Epoch 24/32\n",
            "600/600 [==============================] - 3s 4ms/step - loss: 2.4626e-04 - accuracy: 1.0000\n",
            "Epoch 25/32\n",
            "600/600 [==============================] - 3s 4ms/step - loss: 1.7570e-04 - accuracy: 1.0000\n",
            "Epoch 26/32\n",
            "600/600 [==============================] - 3s 4ms/step - loss: 1.8602e-04 - accuracy: 1.0000\n",
            "Epoch 27/32\n",
            "600/600 [==============================] - 3s 4ms/step - loss: 1.4192e-04 - accuracy: 1.0000\n",
            "Epoch 28/32\n",
            "600/600 [==============================] - 3s 4ms/step - loss: 1.3483e-04 - accuracy: 1.0000\n",
            "Epoch 29/32\n",
            "600/600 [==============================] - 3s 4ms/step - loss: 1.3425e-04 - accuracy: 1.0000\n",
            "Epoch 30/32\n",
            "600/600 [==============================] - 3s 4ms/step - loss: 1.1828e-04 - accuracy: 1.0000\n",
            "Epoch 31/32\n",
            "600/600 [==============================] - 3s 4ms/step - loss: 1.1193e-04 - accuracy: 1.0000\n",
            "Epoch 32/32\n",
            "600/600 [==============================] - 3s 4ms/step - loss: 1.0567e-04 - accuracy: 1.0000\n"
          ],
          "name": "stdout"
        },
        {
          "output_type": "execute_result",
          "data": {
            "text/plain": [
              "<keras.callbacks.History at 0x7f8a58e4b590>"
            ]
          },
          "metadata": {
            "tags": []
          },
          "execution_count": 19
        }
      ]
    },
    {
      "cell_type": "markdown",
      "metadata": {
        "id": "x4bPi5XPNGnm"
      },
      "source": [
        "Result Anaylsis:\n",
        "\n",
        "The results from Model 1 had an accuracy of 0.9994 which was pretty high and very close to 1. But Model 2 had an accuracy of 1 by the 23rd Epoch!\n",
        "\n",
        "This is explained by the increase the depth of the model feature extractor with more convolutional and pooling layers using the VGG convolution neural network (Visual Geometry Group).\n",
        "\n",
        "The key innovation in this architecture was the definition and repetition of what we will refer to as [VGG-blocks.](url:https://machinelearningmastery.com/how-to-implement-major-architecture-innovations-for-convolutional-neural-networks/) These are groups of convolutional layers that use small filters (e.g. 3×3 pixels) followed by a max pooling layer. It is also said to be very effective at extraction features from images. \n",
        "\n",
        "Lets see how it predicts with the test data...."
      ]
    },
    {
      "cell_type": "code",
      "metadata": {
        "colab": {
          "base_uri": "https://localhost:8080/",
          "height": 367
        },
        "id": "WdX79oZX2juX",
        "outputId": "c46b0601-7cf6-4286-9504-f713dcf76218"
      },
      "source": [
        "# Show some result from the testing data\n",
        "from keras_preprocessing.image import img_to_array, load_img\n",
        "\n",
        "test_index = 1\n",
        "# Plot the image\n",
        "plt.imshow(xTest[test_index].reshape(28,28), cmap=plt.get_cmap('gray'))\n",
        "x = img_to_array(xTest[test_index])\n",
        "x = np.expand_dims(x, axis=0)\n",
        "pred_1 = np.argmax(model_1.predict(x), axis=-1)\n",
        "pred_prob_1 = model_1.predict(x)\n",
        "print('Model 1 Predicted: {}\\n'.format(pred_1), pred_prob_1)\n",
        "\n",
        "pred_2 = np.argmax(model_2.predict(x), axis=-1)\n",
        "pred_prob_2 = model_2.predict(x)\n",
        "print('Model 2 Predicted: {}\\n'.format(pred_2), pred_prob_2)"
      ],
      "execution_count": 47,
      "outputs": [
        {
          "output_type": "stream",
          "text": [
            "Model 1 Predicted: [2]\n",
            " [[5.8919113e-19 8.5735283e-27 1.0000000e+00 5.7664133e-34 4.5526324e-29\n",
            "  8.8839166e-37 4.2481900e-19 3.7197185e-38 4.2282297e-31 1.9238365e-27]]\n",
            "Model 2 Predicted: [2]\n",
            " [[1.1370504e-14 1.1098986e-12 1.0000000e+00 3.1358365e-20 5.6503412e-23\n",
            "  2.8664530e-27 2.2511086e-18 1.0777353e-18 1.7557845e-15 6.5057492e-19]]\n"
          ],
          "name": "stdout"
        },
        {
          "output_type": "display_data",
          "data": {
            "image/png": "[encoded data removed]",
            "text/plain": [
              "<Figure size 432x288 with 1 Axes>"
            ]
          },
          "metadata": {
            "tags": [],
            "needs_background": "light"
          }
        }
      ]
    },
    {
      "cell_type": "markdown",
      "metadata": {
        "id": "760H3zCdqv4y"
      },
      "source": [
        "Both results had predicted correctly on the test data, because both had a very high accuracy of close to 1.\n",
        "\n",
        "But what about predicting from a different source?\n"
      ]
    },
    {
      "cell_type": "code",
      "metadata": {
        "colab": {
          "resources": {
            "http://localhost:8080/nbextensions/google.colab/files.js": {
              "data": "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",
              "ok": true,
              "headers": [
                [
                  "content-type",
                  "application/javascript"
                ]
              ],
              "status": 200,
              "status_text": ""
            }
          },
          "base_uri": "https://localhost:8080/",
          "height": 72
        },
        "id": "27_eC4xK3v8x",
        "outputId": "aac02ad9-7e76-4234-8b29-f1c2ddcd99fe"
      },
      "source": [
        "from google.colab import files\n",
        "file = files.upload()"
      ],
      "execution_count": 39,
      "outputs": [
        {
          "output_type": "display_data",
          "data": {
            "text/html": [
              "\n",
              "     <input type=\"file\" id=\"files-c08de8d6-dcce-416f-83f2-fdfbfaa2ed6b\" name=\"files[]\" multiple disabled\n",
              "        style=\"border:none\" />\n",
              "     <output id=\"result-c08de8d6-dcce-416f-83f2-fdfbfaa2ed6b\">\n",
              "      Upload widget is only available when the cell has been executed in the\n",
              "      current browser session. Please rerun this cell to enable.\n",
              "      </output>\n",
              "      <script src=\"/nbextensions/google.colab/files.js\"></script> "
            ],
            "text/plain": [
              "<IPython.core.display.HTML object>"
            ]
          },
          "metadata": {
            "tags": []
          }
        },
        {
          "output_type": "stream",
          "text": [
            "Saving 5.jpg to 5.jpg\n"
          ],
          "name": "stdout"
        }
      ]
    },
    {
      "cell_type": "code",
      "metadata": {
        "colab": {
          "base_uri": "https://localhost:8080/"
        },
        "id": "nhAEZdPXsUB-",
        "outputId": "d5026d49-befb-4166-cff5-294c799c5ba0"
      },
      "source": [
        "file.keys()"
      ],
      "execution_count": 40,
      "outputs": [
        {
          "output_type": "execute_result",
          "data": {
            "text/plain": [
              "dict_keys(['5.jpg'])"
            ]
          },
          "metadata": {
            "tags": []
          },
          "execution_count": 40
        }
      ]
    },
    {
      "cell_type": "code",
      "metadata": {
        "colab": {
          "base_uri": "https://localhost:8080/",
          "height": 333
        },
        "id": "nX2QLXMb27LP",
        "outputId": "78cc7bad-aba7-442e-c1f1-9a6991220d1b"
      },
      "source": [
        "fn = '/content/5.jpg'\n",
        "img = load_img(path=fn, target_size=(28,28,1), color_mode='grayscale')\n",
        "img = np.invert(img)\n",
        "plt.imshow(img, cmap=plt.get_cmap('gray'))\n",
        "\n",
        "# Process the image for prediction\n",
        "\n",
        "x = img_to_array(img=img)\n",
        "x = np.expand_dims(x, axis=0)\n",
        "pred_1 = np.argmax(model_1.predict(x), axis=-1)\n",
        "pred_prob_1 = model_1.predict(x)\n",
        "print('Model 1 Predicted: {}\\n'.format(pred_1), pred_prob_1)\n",
        "\n",
        "pred_2 = np.argmax(model_2.predict(x), axis=-1)\n",
        "pred_prob_2 = model_2.predict(x)\n",
        "print('Model 2 Predicted: {}\\n'.format(pred_2), pred_prob_2)"
      ],
      "execution_count": 48,
      "outputs": [
        {
          "output_type": "stream",
          "text": [
            "Model 1 Predicted: [5]\n",
            " [[0. 0. 0. 0. 0. 1. 0. 0. 0. 0.]]\n",
            "Model 2 Predicted: [5]\n",
            " [[0. 0. 0. 0. 0. 1. 0. 0. 0. 0.]]\n"
          ],
          "name": "stdout"
        },
        {
          "output_type": "display_data",
          "data": {
            "image/png": "[encoded data removed]",
            "text/plain": [
              "<Figure size 432x288 with 1 Axes>"
            ]
          },
          "metadata": {
            "tags": [],
            "needs_background": "light"
          }
        }
      ]
    },
    {
      "cell_type": "markdown",
      "metadata": {
        "id": "PqwqqcKbtK5m"
      },
      "source": [
        "# Conclusion\n",
        "\n",
        "It seems that results for both models are highly accurate with both getting the same predicted result each time correctly and wrongly when reading more complicated images. However, through the Epoch accuracy results, Model 2 performs better with using only around 22 epoch to achieve an accuracy of 1.\n",
        "\n",
        "More research is needed to improve on more complex images to get better predictment."
      ]
    },
    {
      "cell_type": "code",
      "metadata": {
        "id": "y-2i021ZrwT2"
      },
      "source": [
        "# Save the model\n",
        "filename = 'digit_mnist_apml.h5'\n",
        "model_2.save_weights(filepath= filename, overwrite=True)"
      ],
      "execution_count": 33,
      "outputs": []
    },
    {
      "cell_type": "code",
      "metadata": {
        "id": "UaPTIXFmtFTI"
      },
      "source": [
        "# Load the model\n",
        "filename = '/content/digit_mnist_apml.h5'\n",
        "model_2.load_weights(filepath=filename)"
      ],
      "execution_count": null,
      "outputs": []
    }
  ]
}