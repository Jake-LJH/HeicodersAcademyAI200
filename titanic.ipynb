{
  "nbformat": 4,
  "nbformat_minor": 0,
  "metadata": {
    "colab": {
      "name": "titanic.ipynb",
      "provenance": [],
      "include_colab_link": true
    },
    "kernelspec": {
      "name": "python3",
      "display_name": "Python 3"
    },
    "language_info": {
      "name": "python"
    }
  },
  "cells": [
    {
      "cell_type": "markdown",
      "metadata": {
        "id": "view-in-github",
        "colab_type": "text"
      },
      "source": [
        "<a href=\"https://colab.research.google.com/github/Jake-LJH/ML/blob/main/titanic.ipynb\" target=\"_parent\"><img src=\"https://colab.research.google.com/assets/colab-badge.svg\" alt=\"Open In Colab\"/></a>"
      ]
    },
    {
      "cell_type": "markdown",
      "metadata": {
        "id": "UOE8z5SKfxXr"
      },
      "source": [
        "# CA1 - Titanic Assignment\n",
        "\n",
        "The sinking of the RMS Titanic is one of the most infamous shipwrecks in history.  On April 15, 1912, during her maiden voyage, the Titanic sank after colliding with an iceberg, killing 1502 out of 2224 passengers and crew. This sensational tragedy shocked the international community and led to better safety regulations for ships.\n",
        "\n",
        "One of the reasons that the shipwreck led to such loss of life was that there were not enough lifeboats for the passengers and crew. Although there was some element of luck involved in surviving the sinking, some groups of people were more likely to survive than others, such as women, children, and the upper-class.\n",
        "\n",
        "Complete the analysis of what sorts of people were likely to survive. In particular, we ask you to apply the tools of machine learning to predict which passengers survived the tragedy.\n"
      ]
    },
    {
      "cell_type": "code",
      "metadata": {
        "colab": {
          "base_uri": "https://localhost:8080/",
          "height": 204
        },
        "id": "t2b9tFKkd2nb",
        "outputId": "3a587893-dbc0-4d64-fd0c-fe569273f17f"
      },
      "source": [
        "import pandas as pd\n",
        "train = pd.read_csv('/content/train.csv')\n",
        "train.head()"
      ],
      "execution_count": null,
      "outputs": [
        {
          "output_type": "execute_result",
          "data": {
            "text/html": [
              "<div>\n",
              "<style scoped>\n",
              "    .dataframe tbody tr th:only-of-type {\n",
              "        vertical-align: middle;\n",
              "    }\n",
              "\n",
              "    .dataframe tbody tr th {\n",
              "        vertical-align: top;\n",
              "    }\n",
              "\n",
              "    .dataframe thead th {\n",
              "        text-align: right;\n",
              "    }\n",
              "</style>\n",
              "<table border=\"1\" class=\"dataframe\">\n",
              "  <thead>\n",
              "    <tr style=\"text-align: right;\">\n",
              "      <th></th>\n",
              "      <th>PassengerId</th>\n",
              "      <th>Survived</th>\n",
              "      <th>Pclass</th>\n",
              "      <th>Name</th>\n",
              "      <th>Sex</th>\n",
              "      <th>Age</th>\n",
              "      <th>SibSp</th>\n",
              "      <th>Parch</th>\n",
              "      <th>Ticket</th>\n",
              "      <th>Fare</th>\n",
              "      <th>Cabin</th>\n",
              "      <th>Embarked</th>\n",
              "    </tr>\n",
              "  </thead>\n",
              "  <tbody>\n",
              "    <tr>\n",
              "      <th>0</th>\n",
              "      <td>1</td>\n",
              "      <td>1</td>\n",
              "      <td>1</td>\n",
              "      <td>Beckwith, Mrs. Richard Leonard (Sallie Monypeny)</td>\n",
              "      <td>female</td>\n",
              "      <td>47.0</td>\n",
              "      <td>1</td>\n",
              "      <td>1</td>\n",
              "      <td>11751</td>\n",
              "      <td>52.5542</td>\n",
              "      <td>D35</td>\n",
              "      <td>S</td>\n",
              "    </tr>\n",
              "    <tr>\n",
              "      <th>1</th>\n",
              "      <td>2</td>\n",
              "      <td>1</td>\n",
              "      <td>1</td>\n",
              "      <td>Behr, Mr. Karl Howell</td>\n",
              "      <td>male</td>\n",
              "      <td>26.0</td>\n",
              "      <td>0</td>\n",
              "      <td>0</td>\n",
              "      <td>111369</td>\n",
              "      <td>30.0000</td>\n",
              "      <td>C148</td>\n",
              "      <td>C</td>\n",
              "    </tr>\n",
              "    <tr>\n",
              "      <th>2</th>\n",
              "      <td>3</td>\n",
              "      <td>1</td>\n",
              "      <td>1</td>\n",
              "      <td>Bidois, Miss. Rosalie</td>\n",
              "      <td>female</td>\n",
              "      <td>42.0</td>\n",
              "      <td>0</td>\n",
              "      <td>0</td>\n",
              "      <td>PC 17757</td>\n",
              "      <td>227.5250</td>\n",
              "      <td>NaN</td>\n",
              "      <td>C</td>\n",
              "    </tr>\n",
              "    <tr>\n",
              "      <th>3</th>\n",
              "      <td>4</td>\n",
              "      <td>1</td>\n",
              "      <td>1</td>\n",
              "      <td>Bird, Miss. Ellen</td>\n",
              "      <td>female</td>\n",
              "      <td>29.0</td>\n",
              "      <td>0</td>\n",
              "      <td>0</td>\n",
              "      <td>PC 17483</td>\n",
              "      <td>221.7792</td>\n",
              "      <td>C97</td>\n",
              "      <td>S</td>\n",
              "    </tr>\n",
              "    <tr>\n",
              "      <th>4</th>\n",
              "      <td>5</td>\n",
              "      <td>0</td>\n",
              "      <td>1</td>\n",
              "      <td>Birnbaum, Mr. Jakob</td>\n",
              "      <td>male</td>\n",
              "      <td>25.0</td>\n",
              "      <td>0</td>\n",
              "      <td>0</td>\n",
              "      <td>13905</td>\n",
              "      <td>26.0000</td>\n",
              "      <td>NaN</td>\n",
              "      <td>C</td>\n",
              "    </tr>\n",
              "  </tbody>\n",
              "</table>\n",
              "</div>"
            ],
            "text/plain": [
              "   PassengerId  Survived  Pclass  ...      Fare Cabin  Embarked\n",
              "0            1         1       1  ...   52.5542   D35         S\n",
              "1            2         1       1  ...   30.0000  C148         C\n",
              "2            3         1       1  ...  227.5250   NaN         C\n",
              "3            4         1       1  ...  221.7792   C97         S\n",
              "4            5         0       1  ...   26.0000   NaN         C\n",
              "\n",
              "[5 rows x 12 columns]"
            ]
          },
          "metadata": {
            "tags": []
          },
          "execution_count": 4
        }
      ]
    },
    {
      "cell_type": "code",
      "metadata": {
        "colab": {
          "base_uri": "https://localhost:8080/"
        },
        "id": "RcsmujbZgqb9",
        "outputId": "605af8b7-739e-43ca-a79a-33fd3f87ff97"
      },
      "source": [
        "train.dtypes"
      ],
      "execution_count": null,
      "outputs": [
        {
          "output_type": "execute_result",
          "data": {
            "text/plain": [
              "PassengerId      int64\n",
              "Survived         int64\n",
              "Pclass           int64\n",
              "Name            object\n",
              "Sex             object\n",
              "Age            float64\n",
              "SibSp            int64\n",
              "Parch            int64\n",
              "Ticket          object\n",
              "Fare           float64\n",
              "Cabin           object\n",
              "Embarked        object\n",
              "dtype: object"
            ]
          },
          "metadata": {
            "tags": []
          },
          "execution_count": 5
        }
      ]
    },
    {
      "cell_type": "code",
      "metadata": {
        "colab": {
          "base_uri": "https://localhost:8080/",
          "height": 204
        },
        "id": "kJa3YevO5Npn",
        "outputId": "db14038a-a688-4b1c-cc17-34ce07c4cbd1"
      },
      "source": [
        "# Drop id, name, ticket, fare, cabin\n",
        "train = train.drop(['PassengerId','Name','Ticket','Fare','Cabin'], axis=1)\n",
        "\n",
        "train.head()"
      ],
      "execution_count": null,
      "outputs": [
        {
          "output_type": "execute_result",
          "data": {
            "text/html": [
              "<div>\n",
              "<style scoped>\n",
              "    .dataframe tbody tr th:only-of-type {\n",
              "        vertical-align: middle;\n",
              "    }\n",
              "\n",
              "    .dataframe tbody tr th {\n",
              "        vertical-align: top;\n",
              "    }\n",
              "\n",
              "    .dataframe thead th {\n",
              "        text-align: right;\n",
              "    }\n",
              "</style>\n",
              "<table border=\"1\" class=\"dataframe\">\n",
              "  <thead>\n",
              "    <tr style=\"text-align: right;\">\n",
              "      <th></th>\n",
              "      <th>Survived</th>\n",
              "      <th>Pclass</th>\n",
              "      <th>Sex</th>\n",
              "      <th>Age</th>\n",
              "      <th>SibSp</th>\n",
              "      <th>Parch</th>\n",
              "      <th>Embarked</th>\n",
              "    </tr>\n",
              "  </thead>\n",
              "  <tbody>\n",
              "    <tr>\n",
              "      <th>0</th>\n",
              "      <td>1</td>\n",
              "      <td>1</td>\n",
              "      <td>female</td>\n",
              "      <td>47.0</td>\n",
              "      <td>1</td>\n",
              "      <td>1</td>\n",
              "      <td>S</td>\n",
              "    </tr>\n",
              "    <tr>\n",
              "      <th>1</th>\n",
              "      <td>1</td>\n",
              "      <td>1</td>\n",
              "      <td>male</td>\n",
              "      <td>26.0</td>\n",
              "      <td>0</td>\n",
              "      <td>0</td>\n",
              "      <td>C</td>\n",
              "    </tr>\n",
              "    <tr>\n",
              "      <th>2</th>\n",
              "      <td>1</td>\n",
              "      <td>1</td>\n",
              "      <td>female</td>\n",
              "      <td>42.0</td>\n",
              "      <td>0</td>\n",
              "      <td>0</td>\n",
              "      <td>C</td>\n",
              "    </tr>\n",
              "    <tr>\n",
              "      <th>3</th>\n",
              "      <td>1</td>\n",
              "      <td>1</td>\n",
              "      <td>female</td>\n",
              "      <td>29.0</td>\n",
              "      <td>0</td>\n",
              "      <td>0</td>\n",
              "      <td>S</td>\n",
              "    </tr>\n",
              "    <tr>\n",
              "      <th>4</th>\n",
              "      <td>0</td>\n",
              "      <td>1</td>\n",
              "      <td>male</td>\n",
              "      <td>25.0</td>\n",
              "      <td>0</td>\n",
              "      <td>0</td>\n",
              "      <td>C</td>\n",
              "    </tr>\n",
              "  </tbody>\n",
              "</table>\n",
              "</div>"
            ],
            "text/plain": [
              "   Survived  Pclass     Sex   Age  SibSp  Parch Embarked\n",
              "0         1       1  female  47.0      1      1        S\n",
              "1         1       1    male  26.0      0      0        C\n",
              "2         1       1  female  42.0      0      0        C\n",
              "3         1       1  female  29.0      0      0        S\n",
              "4         0       1    male  25.0      0      0        C"
            ]
          },
          "metadata": {
            "tags": []
          },
          "execution_count": 6
        }
      ]
    },
    {
      "cell_type": "code",
      "metadata": {
        "colab": {
          "base_uri": "https://localhost:8080/"
        },
        "id": "0eJ7Yhcj3jVb",
        "outputId": "0efb27e9-54ac-4e2d-dccc-751cfeb2aeac"
      },
      "source": [
        "train.dtypes"
      ],
      "execution_count": null,
      "outputs": [
        {
          "output_type": "execute_result",
          "data": {
            "text/plain": [
              "Survived      int64\n",
              "Pclass        int64\n",
              "Sex          object\n",
              "Age         float64\n",
              "SibSp         int64\n",
              "Parch         int64\n",
              "Embarked     object\n",
              "dtype: object"
            ]
          },
          "metadata": {
            "tags": []
          },
          "execution_count": 7
        }
      ]
    },
    {
      "cell_type": "code",
      "metadata": {
        "colab": {
          "base_uri": "https://localhost:8080/"
        },
        "id": "39w8JDYF6pL8",
        "outputId": "cc921d99-ac7f-4780-93f0-ccdcb9ed8316"
      },
      "source": [
        "#Seperate features from target (Label)\n",
        "\n",
        "x = train.drop('Survived', axis=1)\n",
        "y = train['Survived']\n",
        "\n",
        "print(x.head())\n",
        "print(y.head())\n",
        "\n",
        "print('\\n ** Missing Values ** \\n\\n', train.isnull().sum())"
      ],
      "execution_count": null,
      "outputs": [
        {
          "output_type": "stream",
          "text": [
            "   Pclass     Sex   Age  SibSp  Parch Embarked\n",
            "0       1  female  47.0      1      1        S\n",
            "1       1    male  26.0      0      0        C\n",
            "2       1  female  42.0      0      0        C\n",
            "3       1  female  29.0      0      0        S\n",
            "4       1    male  25.0      0      0        C\n",
            "0    1\n",
            "1    1\n",
            "2    1\n",
            "3    1\n",
            "4    0\n",
            "Name: Survived, dtype: int64\n",
            "\n",
            " ** Missing Values ** \n",
            "\n",
            " Survived      0\n",
            "Pclass        0\n",
            "Sex           0\n",
            "Age         173\n",
            "SibSp         0\n",
            "Parch         0\n",
            "Embarked      2\n",
            "dtype: int64\n"
          ],
          "name": "stdout"
        }
      ]
    },
    {
      "cell_type": "code",
      "metadata": {
        "id": "k7F695VI5GrG"
      },
      "source": [
        "# Split data\n",
        "from sklearn.model_selection import train_test_split\n",
        "X_train, x_test, Y_train, y_test = train_test_split(x, y, test_size = 0.20)"
      ],
      "execution_count": null,
      "outputs": []
    },
    {
      "cell_type": "markdown",
      "metadata": {
        "id": "u7l2Pinc6WGM"
      },
      "source": [
        "# Create Pipeline"
      ]
    },
    {
      "cell_type": "code",
      "metadata": {
        "colab": {
          "base_uri": "https://localhost:8080/"
        },
        "id": "GNBmTcxY6Zn4",
        "outputId": "61f37528-8ddf-4ff7-d141-70084ff18379"
      },
      "source": [
        "from sklearn.pipeline import Pipeline\n",
        "from sklearn.impute import SimpleImputer\n",
        "from sklearn.preprocessing import StandardScaler, OneHotEncoder\n",
        "\n",
        "num_cols = x.select_dtypes(include=['int64','float64']).columns\n",
        "cat_cols = x.select_dtypes(include=['object']).columns\n",
        "print(num_cols)\n",
        "print(cat_cols)"
      ],
      "execution_count": null,
      "outputs": [
        {
          "output_type": "stream",
          "text": [
            "Index(['Pclass', 'Age', 'SibSp', 'Parch'], dtype='object')\n",
            "Index(['Sex', 'Embarked'], dtype='object')\n"
          ],
          "name": "stdout"
        }
      ]
    },
    {
      "cell_type": "code",
      "metadata": {
        "id": "kNtNNgpE7tZd"
      },
      "source": [
        "numeric_transformer = Pipeline(steps=[\n",
        "      ('imputer', SimpleImputer(strategy='median')),\n",
        "      ('scaler', StandardScaler())\n",
        "])\n",
        "\n",
        "categorical_transformer = Pipeline(  steps=[\n",
        "      ('imputer', SimpleImputer(strategy='constant', fill_value='missing')),\n",
        "      ('onhot', OneHotEncoder(handle_unknown='ignore'))\n",
        "])"
      ],
      "execution_count": null,
      "outputs": []
    },
    {
      "cell_type": "code",
      "metadata": {
        "id": "e7Z185y180lF"
      },
      "source": [
        "from sklearn.compose import ColumnTransformer\n",
        "\n",
        "preprocessor = ColumnTransformer(\n",
        "    transformers = [\n",
        "                   ('num', numeric_transformer, num_cols),\n",
        "                   ('cat', categorical_transformer, cat_cols)\n",
        "    ]\n",
        ")"
      ],
      "execution_count": null,
      "outputs": []
    },
    {
      "cell_type": "code",
      "metadata": {
        "id": "Y1q5tWUq9RoZ"
      },
      "source": [
        "# Creating estimator\n",
        "from sklearn.neighbors import KNeighborsClassifier\n",
        "knn = KNeighborsClassifier( algorithm='auto', \n",
        "                            leaf_size=30,\n",
        "                            metric='minkowski', \n",
        "                            metric_params=None,\n",
        "                            n_jobs=None, \n",
        "                            n_neighbors=13, \n",
        "                            p=2,\n",
        "                            weights='uniform')"
      ],
      "execution_count": null,
      "outputs": []
    },
    {
      "cell_type": "code",
      "metadata": {
        "id": "yXGXRbeNFLsA"
      },
      "source": [
        "main_pipeline = Pipeline(\n",
        "    steps = [\n",
        "             ('preprocessor', preprocessor),  \n",
        "             ('classifier', knn)   \n",
        "    ]\n",
        ")"
      ],
      "execution_count": null,
      "outputs": []
    },
    {
      "cell_type": "markdown",
      "metadata": {
        "id": "Rl2uI4gWqUhq"
      },
      "source": [
        "#Training of the model"
      ]
    },
    {
      "cell_type": "code",
      "metadata": {
        "colab": {
          "base_uri": "https://localhost:8080/"
        },
        "id": "8jKVHo8bqW9s",
        "outputId": "d795a531-9fff-400c-b793-30d6afa58611"
      },
      "source": [
        "main_pipeline.fit(X_train, Y_train)"
      ],
      "execution_count": null,
      "outputs": [
        {
          "output_type": "execute_result",
          "data": {
            "text/plain": [
              "Pipeline(memory=None,\n",
              "         steps=[('preprocessor',\n",
              "                 ColumnTransformer(n_jobs=None, remainder='drop',\n",
              "                                   sparse_threshold=0.3,\n",
              "                                   transformer_weights=None,\n",
              "                                   transformers=[('num',\n",
              "                                                  Pipeline(memory=None,\n",
              "                                                           steps=[('imputer',\n",
              "                                                                   SimpleImputer(add_indicator=False,\n",
              "                                                                                 copy=True,\n",
              "                                                                                 fill_value=None,\n",
              "                                                                                 missing_values=nan,\n",
              "                                                                                 strategy='median',\n",
              "                                                                                 verbose=0)),\n",
              "                                                                  ('scaler',\n",
              "                                                                   StandardScaler(copy=True,\n",
              "                                                                                  with_mean...\n",
              "                                                                   OneHotEncoder(categories='auto',\n",
              "                                                                                 drop=None,\n",
              "                                                                                 dtype=<class 'numpy.float64'>,\n",
              "                                                                                 handle_unknown='ignore',\n",
              "                                                                                 sparse=True))],\n",
              "                                                           verbose=False),\n",
              "                                                  Index(['Sex', 'Embarked'], dtype='object'))],\n",
              "                                   verbose=False)),\n",
              "                ('classifier',\n",
              "                 KNeighborsClassifier(algorithm='auto', leaf_size=30,\n",
              "                                      metric='minkowski', metric_params=None,\n",
              "                                      n_jobs=None, n_neighbors=13, p=2,\n",
              "                                      weights='uniform'))],\n",
              "         verbose=False)"
            ]
          },
          "metadata": {
            "tags": []
          },
          "execution_count": 64
        }
      ]
    },
    {
      "cell_type": "markdown",
      "metadata": {
        "id": "0Aq8TZ9Zq9Nc"
      },
      "source": [
        "#Validation and Evaluation"
      ]
    },
    {
      "cell_type": "code",
      "metadata": {
        "id": "eZA-pdoJq8W5"
      },
      "source": [
        "from sklearn.metrics import confusion_matrix\n",
        "from sklearn.metrics import accuracy_score\n",
        "from sklearn.metrics import recall_score\n",
        "from sklearn.metrics import precision_score\n",
        "from sklearn.metrics import f1_score\n",
        "from sklearn.metrics import classification_report\n",
        "import seaborn as sns\n"
      ],
      "execution_count": null,
      "outputs": []
    },
    {
      "cell_type": "code",
      "metadata": {
        "colab": {
          "base_uri": "https://localhost:8080/",
          "height": 435
        },
        "id": "7lMnCZsOrCSx",
        "outputId": "4635fb9c-3019-48b8-8d49-320925180300"
      },
      "source": [
        "y_pred = main_pipeline.predict(x_test)\n",
        "\n",
        "#Summarise the fit of the model\n",
        "report = classification_report(y_test, y_pred, target_names=['Y','N'])\n",
        "print(\"Report : \\n{}\".format(report))\n",
        "\n",
        "#Confusion Matrix\n",
        "cm = confusion_matrix(y_test, y_pred)\n",
        "sns.heatmap(cm,annot=True,cmap='Blues')\n",
        "plt.show()"
      ],
      "execution_count": null,
      "outputs": [
        {
          "output_type": "stream",
          "text": [
            "Report : \n",
            "              precision    recall  f1-score   support\n",
            "\n",
            "           Y       0.85      0.87      0.86       114\n",
            "           N       0.76      0.73      0.74        66\n",
            "\n",
            "    accuracy                           0.82       180\n",
            "   macro avg       0.80      0.80      0.80       180\n",
            "weighted avg       0.82      0.82      0.82       180\n",
            "\n"
          ],
          "name": "stdout"
        },
        {
          "output_type": "display_data",
          "data": {
            "image/png": "[encoded data removed]",
            "text/plain": [
              "<Figure size 432x288 with 2 Axes>"
            ]
          },
          "metadata": {
            "tags": [],
            "needs_background": "light"
          }
        }
      ]
    },
    {
      "cell_type": "code",
      "metadata": {
        "colab": {
          "base_uri": "https://localhost:8080/",
          "height": 279
        },
        "id": "ZOf7bAqGrXjm",
        "outputId": "c037e299-218a-4998-f0aa-2fde803faec2"
      },
      "source": [
        "#ROC Curve\n",
        "from sklearn.metrics import plot_roc_curve\n",
        "import matplotlib.pyplot as plt\n",
        "\n",
        "roc_disp = plot_roc_curve(main_pipeline, x_test, y_test)"
      ],
      "execution_count": null,
      "outputs": [
        {
          "output_type": "display_data",
          "data": {
            "image/png": "[encoded data removed]",
            "text/plain": [
              "<Figure size 432x288 with 1 Axes>"
            ]
          },
          "metadata": {
            "tags": [],
            "needs_background": "light"
          }
        }
      ]
    },
    {
      "cell_type": "code",
      "metadata": {
        "id": "zV27YHMVrc15"
      },
      "source": [
        "# Saving the model\n",
        "import pickle\n",
        "pickle.dump(main_pipeline, open('loan pred pipeline.pkl','wb'))"
      ],
      "execution_count": null,
      "outputs": []
    },
    {
      "cell_type": "markdown",
      "metadata": {
        "id": "ks7JaNBe_vDc"
      },
      "source": [
        "#HyperTuning"
      ]
    },
    {
      "cell_type": "code",
      "metadata": {
        "id": "2J2csTcczVrj"
      },
      "source": [
        "from sklearn.model_selection import GridSearchCV\n",
        "\n",
        "# Parameters to hypertune for KNeighborClassifier\n",
        "\n",
        "n_neighbors_param = list(range(3,17,2))\n",
        "#print(n_neighbors_param)\n",
        "leaf_size_param = list(range(30,60,10))\n",
        "weights_param = ['uniform','distance']\n",
        "algorithm_param = ['auto','ball_tree','kd_tree','brute']\n",
        "\n",
        "# Pack these parameters into a dictionary\n",
        "\n",
        "grid_param_knn = [\n",
        "  {\n",
        "      'classifier__n_neighbors' : n_neighbors_param,\n",
        "      'classifier__weights'     : weights_param,\n",
        "      'classifier__algorithm'   : algorithm_param,\n",
        "      'classifier__leaf_size'   : leaf_size_param,\n",
        "  }\n",
        "]\n",
        "\n",
        "gs_knn_pipeline = GridSearchCV(estimator=main_pipeline,\n",
        "                               param_grid = grid_param_knn,\n",
        "                               scoring = 'accuracy',\n",
        "                               cv = 10\n",
        "                               )\n",
        "# Fit the GridSearchCV to find the best model form the hyperparameter tuning\n",
        "gs_models = gs_knn_pipeline.fit(X_train, Y_train)"
      ],
      "execution_count": null,
      "outputs": []
    },
    {
      "cell_type": "code",
      "metadata": {
        "colab": {
          "base_uri": "https://localhost:8080/"
        },
        "id": "oIgClP79r-Li",
        "outputId": "1bb44653-dc70-43f9-dd7c-08c196992644"
      },
      "source": [
        "gs_models.best_estimator_"
      ],
      "execution_count": null,
      "outputs": [
        {
          "output_type": "execute_result",
          "data": {
            "text/plain": [
              "Pipeline(memory=None,\n",
              "         steps=[('preprocessor',\n",
              "                 ColumnTransformer(n_jobs=None, remainder='drop',\n",
              "                                   sparse_threshold=0.3,\n",
              "                                   transformer_weights=None,\n",
              "                                   transformers=[('num',\n",
              "                                                  Pipeline(memory=None,\n",
              "                                                           steps=[('imputer',\n",
              "                                                                   SimpleImputer(add_indicator=False,\n",
              "                                                                                 copy=True,\n",
              "                                                                                 fill_value=None,\n",
              "                                                                                 missing_values=nan,\n",
              "                                                                                 strategy='median',\n",
              "                                                                                 verbose=0)),\n",
              "                                                                  ('scaler',\n",
              "                                                                   StandardScaler(copy=True,\n",
              "                                                                                  with_mean...\n",
              "                                                                   OneHotEncoder(categories='auto',\n",
              "                                                                                 drop=None,\n",
              "                                                                                 dtype=<class 'numpy.float64'>,\n",
              "                                                                                 handle_unknown='ignore',\n",
              "                                                                                 sparse=True))],\n",
              "                                                           verbose=False),\n",
              "                                                  Index(['Sex', 'Embarked'], dtype='object'))],\n",
              "                                   verbose=False)),\n",
              "                ('classifier',\n",
              "                 KNeighborsClassifier(algorithm='auto', leaf_size=30,\n",
              "                                      metric='minkowski', metric_params=None,\n",
              "                                      n_jobs=None, n_neighbors=13, p=2,\n",
              "                                      weights='uniform'))],\n",
              "         verbose=False)"
            ]
          },
          "metadata": {
            "tags": []
          },
          "execution_count": 59
        }
      ]
    },
    {
      "cell_type": "code",
      "metadata": {
        "colab": {
          "base_uri": "https://localhost:8080/",
          "height": 452
        },
        "id": "Eyxj-61Uw95Z",
        "outputId": "03ac9dc0-7084-45cf-e31d-c7be36b03469"
      },
      "source": [
        "y_pred = gs_models.best_estimator_.predict(x_test)\n",
        "\n",
        "#Summarise the fit of the model\n",
        "report = classification_report(y_test, y_pred, target_names=['Y','N'])\n",
        "print(\"Report : \\n{}\".format(report))\n",
        "\n",
        "#Confusion Matrix\n",
        "cm = confusion_matrix(y_test, y_pred)\n",
        "# print(cm)\n",
        "sns.heatmap(cm,annot=True,cmap='Blues')"
      ],
      "execution_count": null,
      "outputs": [
        {
          "output_type": "stream",
          "text": [
            "Report : \n",
            "              precision    recall  f1-score   support\n",
            "\n",
            "           Y       0.85      0.87      0.86       114\n",
            "           N       0.76      0.73      0.74        66\n",
            "\n",
            "    accuracy                           0.82       180\n",
            "   macro avg       0.80      0.80      0.80       180\n",
            "weighted avg       0.82      0.82      0.82       180\n",
            "\n"
          ],
          "name": "stdout"
        },
        {
          "output_type": "execute_result",
          "data": {
            "text/plain": [
              "<matplotlib.axes._subplots.AxesSubplot at 0x7faeab64a490>"
            ]
          },
          "metadata": {
            "tags": []
          },
          "execution_count": 60
        },
        {
          "output_type": "display_data",
          "data": {
            "image/png": "[encoded data removed]",
            "text/plain": [
              "<Figure size 432x288 with 2 Axes>"
            ]
          },
          "metadata": {
            "tags": [],
            "needs_background": "light"
          }
        }
      ]
    },
    {
      "cell_type": "code",
      "metadata": {
        "colab": {
          "base_uri": "https://localhost:8080/",
          "height": 279
        },
        "id": "w9sF-fhQxGpB",
        "outputId": "edc78f46-d1e4-4907-fa26-a0393246bef7"
      },
      "source": [
        "from sklearn.metrics import plot_roc_curve\n",
        "import matplotlib.pyplot as plt\n",
        "\n",
        "roc_disp = plot_roc_curve(gs_models.best_estimator_, x_test, y_test)"
      ],
      "execution_count": null,
      "outputs": [
        {
          "output_type": "display_data",
          "data": {
            "image/png": "[encoded data removed]",
            "text/plain": [
              "<Figure size 432x288 with 1 Axes>"
            ]
          },
          "metadata": {
            "tags": [],
            "needs_background": "light"
          }
        }
      ]
    }
  ]
}