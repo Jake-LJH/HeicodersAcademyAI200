{
  "nbformat": 4,
  "nbformat_minor": 2,
  "metadata": {
    "colab": {
      "name": "titanic.ipynb",
      "provenance": [],
      "include_colab_link": true
    },
    "kernelspec": {
      "name": "python3",
      "display_name": "Python 3.8.8 64-bit ('base': conda)"
    },
    "language_info": {
      "name": "python",
      "version": "3.8.8",
      "mimetype": "text/x-python",
      "codemirror_mode": {
        "name": "ipython",
        "version": 3
      },
      "pygments_lexer": "ipython3",
      "nbconvert_exporter": "python",
      "file_extension": ".py"
    },
    "interpreter": {
      "hash": "4ee904c88bfb46bb267cb8c182275755112e5aa685c161815f98476cca91da62"
    }
  },
  "cells": [
    {
      "cell_type": "markdown",
      "source": [
        "<a href=\"https://colab.research.google.com/github/Jake-LJH/ML/blob/main/titanic.ipynb\" target=\"_parent\"><img src=\"https://colab.research.google.com/assets/colab-badge.svg\" alt=\"Open In Colab\"/></a>"
      ],
      "metadata": {
        "id": "view-in-github",
        "colab_type": "text"
      }
    },
    {
      "cell_type": "markdown",
      "source": [
        "# CA1 - Titanic Assignment\n",
        "\n",
        "The sinking of the RMS Titanic is one of the most infamous shipwrecks in history.  On April 15, 1912, during her maiden voyage, the Titanic sank after colliding with an iceberg, killing 1502 out of 2224 passengers and crew. This sensational tragedy shocked the international community and led to better safety regulations for ships.\n",
        "\n",
        "One of the reasons that the shipwreck led to such loss of life was that there were not enough lifeboats for the passengers and crew. Although there was some element of luck involved in surviving the sinking, some groups of people were more likely to survive than others, such as women, children, and the upper-class.\n",
        "\n",
        "Complete the analysis of what sorts of people were likely to survive. In particular, we ask you to apply the tools of machine learning to predict which passengers survived the tragedy.\n"
      ],
      "metadata": {
        "id": "UOE8z5SKfxXr"
      }
    },
    {
      "cell_type": "code",
      "execution_count": 1,
      "source": [
        "import pandas as pd\r\n",
        "train = pd.read_csv('titanic_train.csv')\r\n",
        "train.head()"
      ],
      "outputs": [
        {
          "output_type": "execute_result",
          "data": {
            "text/plain": [
              "   PassengerId  Survived  Pclass  \\\n",
              "0            1         1       1   \n",
              "1            2         1       1   \n",
              "2            3         1       1   \n",
              "3            4         1       1   \n",
              "4            5         0       1   \n",
              "\n",
              "                                               Name     Sex   Age  SibSp  \\\n",
              "0  Beckwith, Mrs. Richard Leonard (Sallie Monypeny)  female  47.0      1   \n",
              "1                             Behr, Mr. Karl Howell    male  26.0      0   \n",
              "2                             Bidois, Miss. Rosalie  female  42.0      0   \n",
              "3                                 Bird, Miss. Ellen  female  29.0      0   \n",
              "4                               Birnbaum, Mr. Jakob    male  25.0      0   \n",
              "\n",
              "   Parch    Ticket      Fare Cabin Embarked  \n",
              "0      1     11751   52.5542   D35        S  \n",
              "1      0    111369   30.0000  C148        C  \n",
              "2      0  PC 17757  227.5250   NaN        C  \n",
              "3      0  PC 17483  221.7792   C97        S  \n",
              "4      0     13905   26.0000   NaN        C  "
            ],
            "text/html": [
              "<div>\n",
              "<style scoped>\n",
              "    .dataframe tbody tr th:only-of-type {\n",
              "        vertical-align: middle;\n",
              "    }\n",
              "\n",
              "    .dataframe tbody tr th {\n",
              "        vertical-align: top;\n",
              "    }\n",
              "\n",
              "    .dataframe thead th {\n",
              "        text-align: right;\n",
              "    }\n",
              "</style>\n",
              "<table border=\"1\" class=\"dataframe\">\n",
              "  <thead>\n",
              "    <tr style=\"text-align: right;\">\n",
              "      <th></th>\n",
              "      <th>PassengerId</th>\n",
              "      <th>Survived</th>\n",
              "      <th>Pclass</th>\n",
              "      <th>Name</th>\n",
              "      <th>Sex</th>\n",
              "      <th>Age</th>\n",
              "      <th>SibSp</th>\n",
              "      <th>Parch</th>\n",
              "      <th>Ticket</th>\n",
              "      <th>Fare</th>\n",
              "      <th>Cabin</th>\n",
              "      <th>Embarked</th>\n",
              "    </tr>\n",
              "  </thead>\n",
              "  <tbody>\n",
              "    <tr>\n",
              "      <th>0</th>\n",
              "      <td>1</td>\n",
              "      <td>1</td>\n",
              "      <td>1</td>\n",
              "      <td>Beckwith, Mrs. Richard Leonard (Sallie Monypeny)</td>\n",
              "      <td>female</td>\n",
              "      <td>47.0</td>\n",
              "      <td>1</td>\n",
              "      <td>1</td>\n",
              "      <td>11751</td>\n",
              "      <td>52.5542</td>\n",
              "      <td>D35</td>\n",
              "      <td>S</td>\n",
              "    </tr>\n",
              "    <tr>\n",
              "      <th>1</th>\n",
              "      <td>2</td>\n",
              "      <td>1</td>\n",
              "      <td>1</td>\n",
              "      <td>Behr, Mr. Karl Howell</td>\n",
              "      <td>male</td>\n",
              "      <td>26.0</td>\n",
              "      <td>0</td>\n",
              "      <td>0</td>\n",
              "      <td>111369</td>\n",
              "      <td>30.0000</td>\n",
              "      <td>C148</td>\n",
              "      <td>C</td>\n",
              "    </tr>\n",
              "    <tr>\n",
              "      <th>2</th>\n",
              "      <td>3</td>\n",
              "      <td>1</td>\n",
              "      <td>1</td>\n",
              "      <td>Bidois, Miss. Rosalie</td>\n",
              "      <td>female</td>\n",
              "      <td>42.0</td>\n",
              "      <td>0</td>\n",
              "      <td>0</td>\n",
              "      <td>PC 17757</td>\n",
              "      <td>227.5250</td>\n",
              "      <td>NaN</td>\n",
              "      <td>C</td>\n",
              "    </tr>\n",
              "    <tr>\n",
              "      <th>3</th>\n",
              "      <td>4</td>\n",
              "      <td>1</td>\n",
              "      <td>1</td>\n",
              "      <td>Bird, Miss. Ellen</td>\n",
              "      <td>female</td>\n",
              "      <td>29.0</td>\n",
              "      <td>0</td>\n",
              "      <td>0</td>\n",
              "      <td>PC 17483</td>\n",
              "      <td>221.7792</td>\n",
              "      <td>C97</td>\n",
              "      <td>S</td>\n",
              "    </tr>\n",
              "    <tr>\n",
              "      <th>4</th>\n",
              "      <td>5</td>\n",
              "      <td>0</td>\n",
              "      <td>1</td>\n",
              "      <td>Birnbaum, Mr. Jakob</td>\n",
              "      <td>male</td>\n",
              "      <td>25.0</td>\n",
              "      <td>0</td>\n",
              "      <td>0</td>\n",
              "      <td>13905</td>\n",
              "      <td>26.0000</td>\n",
              "      <td>NaN</td>\n",
              "      <td>C</td>\n",
              "    </tr>\n",
              "  </tbody>\n",
              "</table>\n",
              "</div>"
            ]
          },
          "metadata": {},
          "execution_count": 1
        }
      ],
      "metadata": {
        "colab": {
          "base_uri": "https://localhost:8080/",
          "height": 204
        },
        "id": "t2b9tFKkd2nb",
        "outputId": "3a587893-dbc0-4d64-fd0c-fe569273f17f"
      }
    },
    {
      "cell_type": "code",
      "execution_count": 49,
      "source": [
        "train.dtypes"
      ],
      "outputs": [
        {
          "output_type": "execute_result",
          "data": {
            "text/plain": [
              "PassengerId      int64\n",
              "Survived         int64\n",
              "Pclass           int64\n",
              "Name            object\n",
              "Sex             object\n",
              "Age            float64\n",
              "SibSp            int64\n",
              "Parch            int64\n",
              "Ticket          object\n",
              "Fare           float64\n",
              "Cabin           object\n",
              "Embarked        object\n",
              "dtype: object"
            ]
          },
          "metadata": {},
          "execution_count": 49
        }
      ],
      "metadata": {
        "colab": {
          "base_uri": "https://localhost:8080/"
        },
        "id": "RcsmujbZgqb9",
        "outputId": "605af8b7-739e-43ca-a79a-33fd3f87ff97"
      }
    },
    {
      "cell_type": "code",
      "execution_count": 50,
      "source": [
        "import seaborn as sns\r\n",
        "import matplotlib.pyplot as plt\r\n",
        "\r\n",
        "corr = train.corr().round(2)\r\n",
        "sns.heatmap(data=corr, annot=True, cmap='Blues')\r\n",
        "plt.show()"
      ],
      "outputs": [
        {
          "output_type": "display_data",
          "data": {
            "text/plain": [
              "<Figure size 432x288 with 2 Axes>"
            ],
            "image/png": "[encoded data removed]"
          },
          "metadata": {
            "needs_background": "light"
          }
        }
      ],
      "metadata": {}
    },
    {
      "cell_type": "code",
      "execution_count": 51,
      "source": [
        "# Drop id, name, ticket, fare, cabin\r\n",
        "train = train.drop(['PassengerId','Name','Ticket','Fare','Cabin'], axis=1)\r\n",
        "\r\n",
        "train.head()"
      ],
      "outputs": [
        {
          "output_type": "execute_result",
          "data": {
            "text/plain": [
              "   Survived  Pclass     Sex   Age  SibSp  Parch Embarked\n",
              "0         1       1  female  47.0      1      1        S\n",
              "1         1       1    male  26.0      0      0        C\n",
              "2         1       1  female  42.0      0      0        C\n",
              "3         1       1  female  29.0      0      0        S\n",
              "4         0       1    male  25.0      0      0        C"
            ],
            "text/html": [
              "<div>\n",
              "<style scoped>\n",
              "    .dataframe tbody tr th:only-of-type {\n",
              "        vertical-align: middle;\n",
              "    }\n",
              "\n",
              "    .dataframe tbody tr th {\n",
              "        vertical-align: top;\n",
              "    }\n",
              "\n",
              "    .dataframe thead th {\n",
              "        text-align: right;\n",
              "    }\n",
              "</style>\n",
              "<table border=\"1\" class=\"dataframe\">\n",
              "  <thead>\n",
              "    <tr style=\"text-align: right;\">\n",
              "      <th></th>\n",
              "      <th>Survived</th>\n",
              "      <th>Pclass</th>\n",
              "      <th>Sex</th>\n",
              "      <th>Age</th>\n",
              "      <th>SibSp</th>\n",
              "      <th>Parch</th>\n",
              "      <th>Embarked</th>\n",
              "    </tr>\n",
              "  </thead>\n",
              "  <tbody>\n",
              "    <tr>\n",
              "      <th>0</th>\n",
              "      <td>1</td>\n",
              "      <td>1</td>\n",
              "      <td>female</td>\n",
              "      <td>47.0</td>\n",
              "      <td>1</td>\n",
              "      <td>1</td>\n",
              "      <td>S</td>\n",
              "    </tr>\n",
              "    <tr>\n",
              "      <th>1</th>\n",
              "      <td>1</td>\n",
              "      <td>1</td>\n",
              "      <td>male</td>\n",
              "      <td>26.0</td>\n",
              "      <td>0</td>\n",
              "      <td>0</td>\n",
              "      <td>C</td>\n",
              "    </tr>\n",
              "    <tr>\n",
              "      <th>2</th>\n",
              "      <td>1</td>\n",
              "      <td>1</td>\n",
              "      <td>female</td>\n",
              "      <td>42.0</td>\n",
              "      <td>0</td>\n",
              "      <td>0</td>\n",
              "      <td>C</td>\n",
              "    </tr>\n",
              "    <tr>\n",
              "      <th>3</th>\n",
              "      <td>1</td>\n",
              "      <td>1</td>\n",
              "      <td>female</td>\n",
              "      <td>29.0</td>\n",
              "      <td>0</td>\n",
              "      <td>0</td>\n",
              "      <td>S</td>\n",
              "    </tr>\n",
              "    <tr>\n",
              "      <th>4</th>\n",
              "      <td>0</td>\n",
              "      <td>1</td>\n",
              "      <td>male</td>\n",
              "      <td>25.0</td>\n",
              "      <td>0</td>\n",
              "      <td>0</td>\n",
              "      <td>C</td>\n",
              "    </tr>\n",
              "  </tbody>\n",
              "</table>\n",
              "</div>"
            ]
          },
          "metadata": {},
          "execution_count": 51
        }
      ],
      "metadata": {
        "colab": {
          "base_uri": "https://localhost:8080/",
          "height": 204
        },
        "id": "kJa3YevO5Npn",
        "outputId": "db14038a-a688-4b1c-cc17-34ce07c4cbd1"
      }
    },
    {
      "cell_type": "code",
      "execution_count": 52,
      "source": [
        "train.dtypes"
      ],
      "outputs": [
        {
          "output_type": "execute_result",
          "data": {
            "text/plain": [
              "Survived      int64\n",
              "Pclass        int64\n",
              "Sex          object\n",
              "Age         float64\n",
              "SibSp         int64\n",
              "Parch         int64\n",
              "Embarked     object\n",
              "dtype: object"
            ]
          },
          "metadata": {},
          "execution_count": 52
        }
      ],
      "metadata": {
        "colab": {
          "base_uri": "https://localhost:8080/"
        },
        "id": "0eJ7Yhcj3jVb",
        "outputId": "0efb27e9-54ac-4e2d-dccc-751cfeb2aeac"
      }
    },
    {
      "cell_type": "code",
      "execution_count": 53,
      "source": [
        "#Seperate features from target (Label)\r\n",
        "\r\n",
        "x = train.drop('Survived', axis=1)\r\n",
        "y = train['Survived']\r\n",
        "\r\n",
        "print(x.head())\r\n",
        "print(y.head())\r\n",
        "\r\n",
        "print('\\n ** Missing Values ** \\n\\n', train.isnull().sum())"
      ],
      "outputs": [
        {
          "output_type": "stream",
          "name": "stdout",
          "text": [
            "   Pclass     Sex   Age  SibSp  Parch Embarked\n",
            "0       1  female  47.0      1      1        S\n",
            "1       1    male  26.0      0      0        C\n",
            "2       1  female  42.0      0      0        C\n",
            "3       1  female  29.0      0      0        S\n",
            "4       1    male  25.0      0      0        C\n",
            "0    1\n",
            "1    1\n",
            "2    1\n",
            "3    1\n",
            "4    0\n",
            "Name: Survived, dtype: int64\n",
            "\n",
            " ** Missing Values ** \n",
            "\n",
            " Survived      0\n",
            "Pclass        0\n",
            "Sex           0\n",
            "Age         173\n",
            "SibSp         0\n",
            "Parch         0\n",
            "Embarked      2\n",
            "dtype: int64\n"
          ]
        }
      ],
      "metadata": {
        "colab": {
          "base_uri": "https://localhost:8080/"
        },
        "id": "39w8JDYF6pL8",
        "outputId": "cc921d99-ac7f-4780-93f0-ccdcb9ed8316"
      }
    },
    {
      "cell_type": "code",
      "execution_count": 54,
      "source": [
        "# Split data\r\n",
        "from sklearn.model_selection import train_test_split\r\n",
        "X_train, x_test, Y_train, y_test = train_test_split(x, y, test_size = 0.20)"
      ],
      "outputs": [],
      "metadata": {
        "id": "k7F695VI5GrG"
      }
    },
    {
      "cell_type": "markdown",
      "source": [
        "# Create Pipeline"
      ],
      "metadata": {
        "id": "u7l2Pinc6WGM"
      }
    },
    {
      "cell_type": "code",
      "execution_count": 55,
      "source": [
        "from sklearn.pipeline import Pipeline\r\n",
        "from sklearn.impute import SimpleImputer\r\n",
        "from sklearn.preprocessing import StandardScaler, OneHotEncoder\r\n",
        "\r\n",
        "num_cols = x.select_dtypes(include=['int64','float64']).columns\r\n",
        "cat_cols = x.select_dtypes(include=['object']).columns\r\n",
        "print(num_cols)\r\n",
        "print(cat_cols)"
      ],
      "outputs": [
        {
          "output_type": "stream",
          "name": "stdout",
          "text": [
            "Index(['Pclass', 'Age', 'SibSp', 'Parch'], dtype='object')\n",
            "Index(['Sex', 'Embarked'], dtype='object')\n"
          ]
        }
      ],
      "metadata": {
        "colab": {
          "base_uri": "https://localhost:8080/"
        },
        "id": "GNBmTcxY6Zn4",
        "outputId": "61f37528-8ddf-4ff7-d141-70084ff18379"
      }
    },
    {
      "cell_type": "code",
      "execution_count": 56,
      "source": [
        "numeric_transformer = Pipeline(steps=[\r\n",
        "      ('imputer', SimpleImputer(strategy='median')),\r\n",
        "      ('scaler', StandardScaler())\r\n",
        "])\r\n",
        "\r\n",
        "categorical_transformer = Pipeline(  steps=[\r\n",
        "      ('imputer', SimpleImputer(strategy='constant', fill_value='missing')),\r\n",
        "      ('onhot', OneHotEncoder(handle_unknown='ignore'))\r\n",
        "])"
      ],
      "outputs": [],
      "metadata": {
        "id": "kNtNNgpE7tZd"
      }
    },
    {
      "cell_type": "code",
      "execution_count": 57,
      "source": [
        "from sklearn.compose import ColumnTransformer\r\n",
        "\r\n",
        "preprocessor = ColumnTransformer(\r\n",
        "    transformers = [\r\n",
        "                   ('num', numeric_transformer, num_cols),\r\n",
        "                   ('cat', categorical_transformer, cat_cols)\r\n",
        "    ]\r\n",
        ")"
      ],
      "outputs": [],
      "metadata": {
        "id": "e7Z185y180lF"
      }
    },
    {
      "cell_type": "code",
      "execution_count": 80,
      "source": [
        "# Creating estimator\r\n",
        "from sklearn.svm import NuSVC\r\n",
        "\r\n",
        "nusvc = NuSVC( break_ties=False, cache_size=200, class_weight=None, \r\n",
        "                coef0=0.0, decision_function_shape='ovr', degree=3, \r\n",
        "                gamma = 'auto', kernel='poly', max_iter=-1, nu=0.5, \r\n",
        "                probability=False, random_state=None, shrinking=True, tol=0.001, verbose=False\r\n",
        "                )"
      ],
      "outputs": [],
      "metadata": {
        "id": "Y1q5tWUq9RoZ"
      }
    },
    {
      "cell_type": "code",
      "execution_count": 81,
      "source": [
        "main_pipeline = Pipeline(\r\n",
        "    steps = [ ('preprocessor', preprocessor),  \r\n",
        "              ('classifier', nusvc)   \r\n",
        "    ]\r\n",
        ")"
      ],
      "outputs": [],
      "metadata": {
        "id": "yXGXRbeNFLsA"
      }
    },
    {
      "cell_type": "markdown",
      "source": [
        "# Training of the model"
      ],
      "metadata": {
        "id": "Rl2uI4gWqUhq"
      }
    },
    {
      "cell_type": "code",
      "execution_count": 84,
      "source": [
        "main_pipeline.fit(X_train, Y_train)"
      ],
      "outputs": [
        {
          "output_type": "execute_result",
          "data": {
            "text/plain": [
              "Pipeline(steps=[('preprocessor',\n",
              "                 ColumnTransformer(transformers=[('num',\n",
              "                                                  Pipeline(steps=[('imputer',\n",
              "                                                                   SimpleImputer(strategy='median')),\n",
              "                                                                  ('scaler',\n",
              "                                                                   StandardScaler())]),\n",
              "                                                  Index(['Pclass', 'Age', 'SibSp', 'Parch'], dtype='object')),\n",
              "                                                 ('cat',\n",
              "                                                  Pipeline(steps=[('imputer',\n",
              "                                                                   SimpleImputer(fill_value='missing',\n",
              "                                                                                 strategy='constant')),\n",
              "                                                                  ('onhot',\n",
              "                                                                   OneHotEncoder(handle_unknown='ignore'))]),\n",
              "                                                  Index(['Sex', 'Embarked'], dtype='object'))])),\n",
              "                ('classifier', NuSVC(gamma='auto', kernel='poly'))])"
            ]
          },
          "metadata": {},
          "execution_count": 84
        }
      ],
      "metadata": {
        "colab": {
          "base_uri": "https://localhost:8080/"
        },
        "id": "8jKVHo8bqW9s",
        "outputId": "d795a531-9fff-400c-b793-30d6afa58611"
      }
    },
    {
      "cell_type": "markdown",
      "source": [
        "# Validation and Evaluation"
      ],
      "metadata": {
        "id": "0Aq8TZ9Zq9Nc"
      }
    },
    {
      "cell_type": "code",
      "execution_count": 85,
      "source": [
        "from sklearn.metrics import confusion_matrix\r\n",
        "from sklearn.metrics import accuracy_score\r\n",
        "from sklearn.metrics import recall_score\r\n",
        "from sklearn.metrics import precision_score\r\n",
        "from sklearn.metrics import f1_score\r\n",
        "from sklearn.metrics import classification_report\r\n",
        "import seaborn as sns\r\n",
        "import matplotlib.pyplot as plt\r\n"
      ],
      "outputs": [],
      "metadata": {
        "id": "eZA-pdoJq8W5"
      }
    },
    {
      "cell_type": "code",
      "execution_count": 86,
      "source": [
        "y_pred = main_pipeline.predict(x_test)\r\n",
        "\r\n",
        "#Summarise the fit of the model\r\n",
        "report = classification_report(y_test, y_pred, target_names=['Y','N'])\r\n",
        "print(\"Report : \\n{}\".format(report))\r\n",
        "\r\n",
        "#Confusion Matrix\r\n",
        "cm = confusion_matrix(y_test, y_pred)\r\n",
        "sns.heatmap(cm,annot=True,cmap='Blues')\r\n",
        "plt.show()"
      ],
      "outputs": [
        {
          "output_type": "stream",
          "name": "stdout",
          "text": [
            "Report : \n",
            "              precision    recall  f1-score   support\n",
            "\n",
            "           Y       0.81      0.97      0.88       110\n",
            "           N       0.94      0.64      0.76        70\n",
            "\n",
            "    accuracy                           0.84       180\n",
            "   macro avg       0.87      0.81      0.82       180\n",
            "weighted avg       0.86      0.84      0.84       180\n",
            "\n"
          ]
        },
        {
          "output_type": "display_data",
          "data": {
            "text/plain": [
              "<Figure size 432x288 with 2 Axes>"
            ],
            "image/png": "[encoded data removed]"
          },
          "metadata": {
            "needs_background": "light"
          }
        }
      ],
      "metadata": {
        "colab": {
          "base_uri": "https://localhost:8080/",
          "height": 435
        },
        "id": "7lMnCZsOrCSx",
        "outputId": "4635fb9c-3019-48b8-8d49-320925180300"
      }
    },
    {
      "cell_type": "code",
      "execution_count": 89,
      "source": [
        "#ROC Curve\r\n",
        "from sklearn.metrics import plot_roc_curve\r\n",
        "import matplotlib.pyplot as plt\r\n",
        "\r\n",
        "roc_disp = plot_roc_curve(main_pipeline, x_test, y_test)\r\n",
        "plt.plot([0,1],[0,1], color='orange', linestyle='--')\r\n",
        "plt.show()"
      ],
      "outputs": [
        {
          "output_type": "display_data",
          "data": {
            "text/plain": [
              "<Figure size 432x288 with 1 Axes>"
            ],
            "image/png": "[encoded data removed]"
          },
          "metadata": {
            "needs_background": "light"
          }
        }
      ],
      "metadata": {
        "colab": {
          "base_uri": "https://localhost:8080/",
          "height": 279
        },
        "id": "ZOf7bAqGrXjm",
        "outputId": "c037e299-218a-4998-f0aa-2fde803faec2"
      }
    },
    {
      "cell_type": "code",
      "execution_count": 90,
      "source": [
        "# Saving the model\r\n",
        "import pickle\r\n",
        "pickle.dump(main_pipeline, open('loan pred pipeline.pkl','wb'))"
      ],
      "outputs": [],
      "metadata": {
        "id": "zV27YHMVrc15"
      }
    },
    {
      "cell_type": "markdown",
      "source": [
        "# HyperTuning"
      ],
      "metadata": {
        "id": "ks7JaNBe_vDc"
      }
    },
    {
      "cell_type": "code",
      "execution_count": null,
      "source": [
        "from sklearn.model_selection import GridSearchCV\r\n",
        "\r\n",
        "# Parameters to hypertune for NuSVC\r\n",
        "\r\n",
        "kernel_param = ['linear','poly','rbf', 'sigmoid', 'precomputed']\r\n",
        "gamma_param = ['auto','scale']\r\n",
        "\r\n",
        "# Pack these parameters into a dictionary\r\n",
        "\r\n",
        "grid_param_logr = [\r\n",
        "  {\r\n",
        "      'classifier__kernel'   : kernel_param,\r\n",
        "      'classifier__gamma'   : gamma_param,\r\n",
        "  }\r\n",
        "]\r\n",
        "\r\n",
        "gs_nusvc_pipeline = GridSearchCV(estimator=main_pipeline,\r\n",
        "                               param_grid = grid_param_logr,\r\n",
        "                               scoring = 'accuracy',\r\n",
        "                               cv = 10\r\n",
        "                               )\r\n",
        "# Fit the GridSearchCV to find the best model form the hyperparameter tuning\r\n",
        "gs_models = gs_nusvc_pipeline.fit(X_train, Y_train)"
      ],
      "outputs": [],
      "metadata": {
        "id": "2J2csTcczVrj"
      }
    },
    {
      "cell_type": "code",
      "execution_count": 91,
      "source": [
        "gs_models.best_estimator_"
      ],
      "outputs": [
        {
          "output_type": "execute_result",
          "data": {
            "text/plain": [
              "Pipeline(steps=[('preprocessor',\n",
              "                 ColumnTransformer(transformers=[('num',\n",
              "                                                  Pipeline(steps=[('imputer',\n",
              "                                                                   SimpleImputer(strategy='median')),\n",
              "                                                                  ('scaler',\n",
              "                                                                   StandardScaler())]),\n",
              "                                                  Index(['Pclass', 'Age', 'SibSp', 'Parch'], dtype='object')),\n",
              "                                                 ('cat',\n",
              "                                                  Pipeline(steps=[('imputer',\n",
              "                                                                   SimpleImputer(fill_value='missing',\n",
              "                                                                                 strategy='constant')),\n",
              "                                                                  ('onhot',\n",
              "                                                                   OneHotEncoder(handle_unknown='ignore'))]),\n",
              "                                                  Index(['Sex', 'Embarked'], dtype='object'))])),\n",
              "                ('classifier', NuSVC(gamma='auto'))])"
            ]
          },
          "metadata": {},
          "execution_count": 91
        }
      ],
      "metadata": {
        "colab": {
          "base_uri": "https://localhost:8080/"
        },
        "id": "oIgClP79r-Li",
        "outputId": "1bb44653-dc70-43f9-dd7c-08c196992644"
      }
    },
    {
      "cell_type": "code",
      "execution_count": 92,
      "source": [
        "y_pred = gs_models.best_estimator_.predict(x_test)\r\n",
        "\r\n",
        "#Summarise the fit of the model\r\n",
        "report = classification_report(y_test, y_pred, target_names=['Y','N'])\r\n",
        "print(\"Report : \\n{}\".format(report))\r\n",
        "\r\n",
        "#Confusion Matrix\r\n",
        "cm = confusion_matrix(y_test, y_pred)\r\n",
        "# print(cm)\r\n",
        "sns.heatmap(cm,annot=True,cmap='Blues')\r\n",
        "plt.show()"
      ],
      "outputs": [
        {
          "output_type": "stream",
          "name": "stdout",
          "text": [
            "Report : \n",
            "              precision    recall  f1-score   support\n",
            "\n",
            "           Y       0.81      0.92      0.86       110\n",
            "           N       0.84      0.67      0.75        70\n",
            "\n",
            "    accuracy                           0.82       180\n",
            "   macro avg       0.83      0.79      0.80       180\n",
            "weighted avg       0.82      0.82      0.82       180\n",
            "\n"
          ]
        },
        {
          "output_type": "display_data",
          "data": {
            "text/plain": [
              "<Figure size 432x288 with 2 Axes>"
            ],
            "image/png": "[encoded data removed]"
          },
          "metadata": {
            "needs_background": "light"
          }
        }
      ],
      "metadata": {
        "colab": {
          "base_uri": "https://localhost:8080/",
          "height": 452
        },
        "id": "Eyxj-61Uw95Z",
        "outputId": "03ac9dc0-7084-45cf-e31d-c7be36b03469"
      }
    },
    {
      "cell_type": "code",
      "execution_count": 93,
      "source": [
        "from sklearn.metrics import plot_roc_curve\r\n",
        "import matplotlib.pyplot as plt\r\n",
        "\r\n",
        "roc_disp = plot_roc_curve(gs_models.best_estimator_, x_test, y_test)\r\n",
        "plt.plot([0,1],[0,1], color='orange', linestyle='--')\r\n",
        "plt.show()"
      ],
      "outputs": [
        {
          "output_type": "display_data",
          "data": {
            "text/plain": [
              "<Figure size 432x288 with 1 Axes>"
            ],
            "image/png": "[encoded data removed]"
          },
          "metadata": {
            "needs_background": "light"
          }
        }
      ],
      "metadata": {
        "colab": {
          "base_uri": "https://localhost:8080/",
          "height": 279
        },
        "id": "w9sF-fhQxGpB",
        "outputId": "edc78f46-d1e4-4907-fa26-a0393246bef7"
      }
    },
    {
      "cell_type": "markdown",
      "source": [
        "# Comparing with other estimator"
      ],
      "metadata": {}
    },
    {
      "cell_type": "code",
      "execution_count": 69,
      "source": [
        "from sklearn.neighbors import KNeighborsClassifier\r\n",
        "from sklearn.svm import SVC, LinearSVC, NuSVC\r\n",
        "from sklearn.tree import DecisionTreeClassifier\r\n",
        "from sklearn.ensemble import RandomForestClassifier, AdaBoostClassifier, GradientBoostingClassifier\r\n",
        "from sklearn.linear_model import LogisticRegression\r\n",
        "\r\n",
        "# Create a list of classifiers to do a quick test\r\n",
        "classifiers = [ \r\n",
        "               KNeighborsClassifier(),\r\n",
        "               SVC(),\r\n",
        "               NuSVC(),\r\n",
        "               DecisionTreeClassifier(),\r\n",
        "               RandomForestClassifier(),\r\n",
        "               AdaBoostClassifier(),\r\n",
        "               GradientBoostingClassifier(),\r\n",
        "               LogisticRegression()\r\n",
        "]"
      ],
      "outputs": [],
      "metadata": {}
    },
    {
      "cell_type": "code",
      "execution_count": 70,
      "source": [
        "from sklearn.metrics import plot_roc_curve\r\n",
        "import matplotlib.pyplot as plt\r\n",
        "\r\n",
        "fig, ax = plt.subplots()\r\n",
        "\r\n",
        "for clf in classifiers:\r\n",
        "  pipeline = Pipeline(\r\n",
        "      steps = [ \r\n",
        "               ('preprocessor', preprocessor),\r\n",
        "               ('classifier', clf)\r\n",
        "      ]\r\n",
        "  )\r\n",
        "  pipeline.fit(X_train, Y_train)\r\n",
        "  score = pipeline.score(x_test, y_test)\r\n",
        "  print('%s score: %.3f' % (clf.__class__.__name__, pipeline.score(x_test, y_test)))\r\n",
        "  if score > 0.82:\r\n",
        "    roc_disp = plot_roc_curve(pipeline, x_test, y_test, ax=ax, name='{}'.format(clf.__class__.__name__))"
      ],
      "outputs": [
        {
          "output_type": "stream",
          "name": "stdout",
          "text": [
            "KNeighborsClassifier score: 0.811\n",
            "SVC score: 0.839\n",
            "NuSVC score: 0.828\n",
            "DecisionTreeClassifier score: 0.761\n",
            "RandomForestClassifier score: 0.783\n",
            "AdaBoostClassifier score: 0.817\n",
            "GradientBoostingClassifier score: 0.861\n",
            "LogisticRegression score: 0.817\n"
          ]
        },
        {
          "output_type": "display_data",
          "data": {
            "text/plain": [
              "<Figure size 432x288 with 1 Axes>"
            ],
            "image/png": "[encoded data removed]"
          },
          "metadata": {
            "needs_background": "light"
          }
        }
      ],
      "metadata": {}
    }
  ]
}